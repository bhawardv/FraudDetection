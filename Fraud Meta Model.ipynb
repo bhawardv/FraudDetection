{
 "cells": [
  {
   "cell_type": "markdown",
   "id": "cedea70b",
   "metadata": {},
   "source": [
    "### Importing Necessary Libraries:"
   ]
  },
  {
   "cell_type": "code",
   "execution_count": 1,
   "id": "969fa85e",
   "metadata": {},
   "outputs": [],
   "source": [
    "# Importing libraries \n",
    "import pandas as pd\n",
    "import numpy as np\n",
    "import matplotlib.pyplot as plt\n",
    "import seaborn as sns\n",
    "from scipy.stats import zscore\n",
    "from sklearn.preprocessing import LabelEncoder, StandardScaler\n",
    "from sklearn.model_selection import train_test_split, GridSearchCV\n",
    "from statsmodels.stats.outliers_influence import variance_inflation_factor\n",
    "from statsmodels.tools.tools import add_constant\n",
    "from sklearn.metrics import classification_report, confusion_matrix, accuracy_score, roc_auc_score\n",
    "from sklearn.ensemble import RandomForestClassifier\n",
    "from xgboost import XGBClassifier\n",
    "from sklearn.linear_model import LogisticRegression\n",
    "import joblib\n",
    "import warnings\n",
    "warnings.filterwarnings(\"ignore\")"
   ]
  },
  {
   "cell_type": "markdown",
   "id": "00414c24",
   "metadata": {},
   "source": [
    "### Loading and Exploring the Data:"
   ]
  },
  {
   "cell_type": "code",
   "execution_count": 2,
   "id": "01e39842",
   "metadata": {},
   "outputs": [],
   "source": [
    "# Load the dataset\n",
    "fraud = pd.read_csv(\"Fraud.csv\")"
   ]
  },
  {
   "cell_type": "code",
   "execution_count": 3,
   "id": "4dc21311",
   "metadata": {},
   "outputs": [
    {
     "data": {
      "text/html": [
       "<div>\n",
       "<style scoped>\n",
       "    .dataframe tbody tr th:only-of-type {\n",
       "        vertical-align: middle;\n",
       "    }\n",
       "\n",
       "    .dataframe tbody tr th {\n",
       "        vertical-align: top;\n",
       "    }\n",
       "\n",
       "    .dataframe thead th {\n",
       "        text-align: right;\n",
       "    }\n",
       "</style>\n",
       "<table border=\"1\" class=\"dataframe\">\n",
       "  <thead>\n",
       "    <tr style=\"text-align: right;\">\n",
       "      <th></th>\n",
       "      <th>step</th>\n",
       "      <th>type</th>\n",
       "      <th>amount</th>\n",
       "      <th>nameOrig</th>\n",
       "      <th>oldbalanceOrg</th>\n",
       "      <th>newbalanceOrig</th>\n",
       "      <th>nameDest</th>\n",
       "      <th>oldbalanceDest</th>\n",
       "      <th>newbalanceDest</th>\n",
       "      <th>isFraud</th>\n",
       "      <th>isFlaggedFraud</th>\n",
       "    </tr>\n",
       "  </thead>\n",
       "  <tbody>\n",
       "    <tr>\n",
       "      <th>0</th>\n",
       "      <td>1</td>\n",
       "      <td>PAYMENT</td>\n",
       "      <td>9839.64</td>\n",
       "      <td>C1231006815</td>\n",
       "      <td>170136.0</td>\n",
       "      <td>160296.36</td>\n",
       "      <td>M1979787155</td>\n",
       "      <td>0.0</td>\n",
       "      <td>0.0</td>\n",
       "      <td>0</td>\n",
       "      <td>0</td>\n",
       "    </tr>\n",
       "    <tr>\n",
       "      <th>1</th>\n",
       "      <td>1</td>\n",
       "      <td>PAYMENT</td>\n",
       "      <td>1864.28</td>\n",
       "      <td>C1666544295</td>\n",
       "      <td>21249.0</td>\n",
       "      <td>19384.72</td>\n",
       "      <td>M2044282225</td>\n",
       "      <td>0.0</td>\n",
       "      <td>0.0</td>\n",
       "      <td>0</td>\n",
       "      <td>0</td>\n",
       "    </tr>\n",
       "    <tr>\n",
       "      <th>2</th>\n",
       "      <td>1</td>\n",
       "      <td>TRANSFER</td>\n",
       "      <td>181.00</td>\n",
       "      <td>C1305486145</td>\n",
       "      <td>181.0</td>\n",
       "      <td>0.00</td>\n",
       "      <td>C553264065</td>\n",
       "      <td>0.0</td>\n",
       "      <td>0.0</td>\n",
       "      <td>1</td>\n",
       "      <td>0</td>\n",
       "    </tr>\n",
       "    <tr>\n",
       "      <th>3</th>\n",
       "      <td>1</td>\n",
       "      <td>CASH_OUT</td>\n",
       "      <td>181.00</td>\n",
       "      <td>C840083671</td>\n",
       "      <td>181.0</td>\n",
       "      <td>0.00</td>\n",
       "      <td>C38997010</td>\n",
       "      <td>21182.0</td>\n",
       "      <td>0.0</td>\n",
       "      <td>1</td>\n",
       "      <td>0</td>\n",
       "    </tr>\n",
       "    <tr>\n",
       "      <th>4</th>\n",
       "      <td>1</td>\n",
       "      <td>PAYMENT</td>\n",
       "      <td>11668.14</td>\n",
       "      <td>C2048537720</td>\n",
       "      <td>41554.0</td>\n",
       "      <td>29885.86</td>\n",
       "      <td>M1230701703</td>\n",
       "      <td>0.0</td>\n",
       "      <td>0.0</td>\n",
       "      <td>0</td>\n",
       "      <td>0</td>\n",
       "    </tr>\n",
       "  </tbody>\n",
       "</table>\n",
       "</div>"
      ],
      "text/plain": [
       "   step      type    amount     nameOrig  oldbalanceOrg  newbalanceOrig  \\\n",
       "0     1   PAYMENT   9839.64  C1231006815       170136.0       160296.36   \n",
       "1     1   PAYMENT   1864.28  C1666544295        21249.0        19384.72   \n",
       "2     1  TRANSFER    181.00  C1305486145          181.0            0.00   \n",
       "3     1  CASH_OUT    181.00   C840083671          181.0            0.00   \n",
       "4     1   PAYMENT  11668.14  C2048537720        41554.0        29885.86   \n",
       "\n",
       "      nameDest  oldbalanceDest  newbalanceDest  isFraud  isFlaggedFraud  \n",
       "0  M1979787155             0.0             0.0        0               0  \n",
       "1  M2044282225             0.0             0.0        0               0  \n",
       "2   C553264065             0.0             0.0        1               0  \n",
       "3    C38997010         21182.0             0.0        1               0  \n",
       "4  M1230701703             0.0             0.0        0               0  "
      ]
     },
     "execution_count": 3,
     "metadata": {},
     "output_type": "execute_result"
    }
   ],
   "source": [
    "# Display the first few rows\n",
    "fraud.head()"
   ]
  },
  {
   "cell_type": "code",
   "execution_count": 4,
   "id": "575192a4",
   "metadata": {},
   "outputs": [
    {
     "name": "stdout",
     "output_type": "stream",
     "text": [
      "<class 'pandas.core.frame.DataFrame'>\n",
      "RangeIndex: 6362620 entries, 0 to 6362619\n",
      "Data columns (total 11 columns):\n",
      " #   Column          Dtype  \n",
      "---  ------          -----  \n",
      " 0   step            int64  \n",
      " 1   type            object \n",
      " 2   amount          float64\n",
      " 3   nameOrig        object \n",
      " 4   oldbalanceOrg   float64\n",
      " 5   newbalanceOrig  float64\n",
      " 6   nameDest        object \n",
      " 7   oldbalanceDest  float64\n",
      " 8   newbalanceDest  float64\n",
      " 9   isFraud         int64  \n",
      " 10  isFlaggedFraud  int64  \n",
      "dtypes: float64(5), int64(3), object(3)\n",
      "memory usage: 534.0+ MB\n"
     ]
    }
   ],
   "source": [
    "# Check data info and summary\n",
    "fraud.info()"
   ]
  },
  {
   "cell_type": "code",
   "execution_count": 5,
   "id": "0fe6f882",
   "metadata": {
    "scrolled": true
   },
   "outputs": [
    {
     "data": {
      "text/html": [
       "<div>\n",
       "<style scoped>\n",
       "    .dataframe tbody tr th:only-of-type {\n",
       "        vertical-align: middle;\n",
       "    }\n",
       "\n",
       "    .dataframe tbody tr th {\n",
       "        vertical-align: top;\n",
       "    }\n",
       "\n",
       "    .dataframe thead th {\n",
       "        text-align: right;\n",
       "    }\n",
       "</style>\n",
       "<table border=\"1\" class=\"dataframe\">\n",
       "  <thead>\n",
       "    <tr style=\"text-align: right;\">\n",
       "      <th></th>\n",
       "      <th>step</th>\n",
       "      <th>amount</th>\n",
       "      <th>oldbalanceOrg</th>\n",
       "      <th>newbalanceOrig</th>\n",
       "      <th>oldbalanceDest</th>\n",
       "      <th>newbalanceDest</th>\n",
       "      <th>isFraud</th>\n",
       "      <th>isFlaggedFraud</th>\n",
       "    </tr>\n",
       "  </thead>\n",
       "  <tbody>\n",
       "    <tr>\n",
       "      <th>count</th>\n",
       "      <td>6.362620e+06</td>\n",
       "      <td>6.362620e+06</td>\n",
       "      <td>6.362620e+06</td>\n",
       "      <td>6.362620e+06</td>\n",
       "      <td>6.362620e+06</td>\n",
       "      <td>6.362620e+06</td>\n",
       "      <td>6.362620e+06</td>\n",
       "      <td>6.362620e+06</td>\n",
       "    </tr>\n",
       "    <tr>\n",
       "      <th>mean</th>\n",
       "      <td>2.433972e+02</td>\n",
       "      <td>1.798619e+05</td>\n",
       "      <td>8.338831e+05</td>\n",
       "      <td>8.551137e+05</td>\n",
       "      <td>1.100702e+06</td>\n",
       "      <td>1.224996e+06</td>\n",
       "      <td>1.290820e-03</td>\n",
       "      <td>2.514687e-06</td>\n",
       "    </tr>\n",
       "    <tr>\n",
       "      <th>std</th>\n",
       "      <td>1.423320e+02</td>\n",
       "      <td>6.038582e+05</td>\n",
       "      <td>2.888243e+06</td>\n",
       "      <td>2.924049e+06</td>\n",
       "      <td>3.399180e+06</td>\n",
       "      <td>3.674129e+06</td>\n",
       "      <td>3.590480e-02</td>\n",
       "      <td>1.585775e-03</td>\n",
       "    </tr>\n",
       "    <tr>\n",
       "      <th>min</th>\n",
       "      <td>1.000000e+00</td>\n",
       "      <td>0.000000e+00</td>\n",
       "      <td>0.000000e+00</td>\n",
       "      <td>0.000000e+00</td>\n",
       "      <td>0.000000e+00</td>\n",
       "      <td>0.000000e+00</td>\n",
       "      <td>0.000000e+00</td>\n",
       "      <td>0.000000e+00</td>\n",
       "    </tr>\n",
       "    <tr>\n",
       "      <th>25%</th>\n",
       "      <td>1.560000e+02</td>\n",
       "      <td>1.338957e+04</td>\n",
       "      <td>0.000000e+00</td>\n",
       "      <td>0.000000e+00</td>\n",
       "      <td>0.000000e+00</td>\n",
       "      <td>0.000000e+00</td>\n",
       "      <td>0.000000e+00</td>\n",
       "      <td>0.000000e+00</td>\n",
       "    </tr>\n",
       "    <tr>\n",
       "      <th>50%</th>\n",
       "      <td>2.390000e+02</td>\n",
       "      <td>7.487194e+04</td>\n",
       "      <td>1.420800e+04</td>\n",
       "      <td>0.000000e+00</td>\n",
       "      <td>1.327057e+05</td>\n",
       "      <td>2.146614e+05</td>\n",
       "      <td>0.000000e+00</td>\n",
       "      <td>0.000000e+00</td>\n",
       "    </tr>\n",
       "    <tr>\n",
       "      <th>75%</th>\n",
       "      <td>3.350000e+02</td>\n",
       "      <td>2.087215e+05</td>\n",
       "      <td>1.073152e+05</td>\n",
       "      <td>1.442584e+05</td>\n",
       "      <td>9.430367e+05</td>\n",
       "      <td>1.111909e+06</td>\n",
       "      <td>0.000000e+00</td>\n",
       "      <td>0.000000e+00</td>\n",
       "    </tr>\n",
       "    <tr>\n",
       "      <th>max</th>\n",
       "      <td>7.430000e+02</td>\n",
       "      <td>9.244552e+07</td>\n",
       "      <td>5.958504e+07</td>\n",
       "      <td>4.958504e+07</td>\n",
       "      <td>3.560159e+08</td>\n",
       "      <td>3.561793e+08</td>\n",
       "      <td>1.000000e+00</td>\n",
       "      <td>1.000000e+00</td>\n",
       "    </tr>\n",
       "  </tbody>\n",
       "</table>\n",
       "</div>"
      ],
      "text/plain": [
       "               step        amount  oldbalanceOrg  newbalanceOrig  \\\n",
       "count  6.362620e+06  6.362620e+06   6.362620e+06    6.362620e+06   \n",
       "mean   2.433972e+02  1.798619e+05   8.338831e+05    8.551137e+05   \n",
       "std    1.423320e+02  6.038582e+05   2.888243e+06    2.924049e+06   \n",
       "min    1.000000e+00  0.000000e+00   0.000000e+00    0.000000e+00   \n",
       "25%    1.560000e+02  1.338957e+04   0.000000e+00    0.000000e+00   \n",
       "50%    2.390000e+02  7.487194e+04   1.420800e+04    0.000000e+00   \n",
       "75%    3.350000e+02  2.087215e+05   1.073152e+05    1.442584e+05   \n",
       "max    7.430000e+02  9.244552e+07   5.958504e+07    4.958504e+07   \n",
       "\n",
       "       oldbalanceDest  newbalanceDest       isFraud  isFlaggedFraud  \n",
       "count    6.362620e+06    6.362620e+06  6.362620e+06    6.362620e+06  \n",
       "mean     1.100702e+06    1.224996e+06  1.290820e-03    2.514687e-06  \n",
       "std      3.399180e+06    3.674129e+06  3.590480e-02    1.585775e-03  \n",
       "min      0.000000e+00    0.000000e+00  0.000000e+00    0.000000e+00  \n",
       "25%      0.000000e+00    0.000000e+00  0.000000e+00    0.000000e+00  \n",
       "50%      1.327057e+05    2.146614e+05  0.000000e+00    0.000000e+00  \n",
       "75%      9.430367e+05    1.111909e+06  0.000000e+00    0.000000e+00  \n",
       "max      3.560159e+08    3.561793e+08  1.000000e+00    1.000000e+00  "
      ]
     },
     "execution_count": 5,
     "metadata": {},
     "output_type": "execute_result"
    }
   ],
   "source": [
    "fraud.describe()"
   ]
  },
  {
   "cell_type": "code",
   "execution_count": 6,
   "id": "187bd9b1",
   "metadata": {},
   "outputs": [
    {
     "data": {
      "text/plain": [
       "(6362620, 11)"
      ]
     },
     "execution_count": 6,
     "metadata": {},
     "output_type": "execute_result"
    }
   ],
   "source": [
    "fraud.shape"
   ]
  },
  {
   "cell_type": "code",
   "execution_count": 7,
   "id": "4e51c6d5",
   "metadata": {},
   "outputs": [
    {
     "data": {
      "text/plain": [
       "step              0\n",
       "type              0\n",
       "amount            0\n",
       "nameOrig          0\n",
       "oldbalanceOrg     0\n",
       "newbalanceOrig    0\n",
       "nameDest          0\n",
       "oldbalanceDest    0\n",
       "newbalanceDest    0\n",
       "isFraud           0\n",
       "isFlaggedFraud    0\n",
       "dtype: int64"
      ]
     },
     "execution_count": 7,
     "metadata": {},
     "output_type": "execute_result"
    }
   ],
   "source": [
    "# Check for missing values\n",
    "fraud.isna().sum()"
   ]
  },
  {
   "cell_type": "code",
   "execution_count": 8,
   "id": "9306d37f",
   "metadata": {},
   "outputs": [
    {
     "data": {
      "text/plain": [
       "0"
      ]
     },
     "execution_count": 8,
     "metadata": {},
     "output_type": "execute_result"
    }
   ],
   "source": [
    "# Check for duplicate values\n",
    "fraud.duplicated().sum()"
   ]
  },
  {
   "cell_type": "markdown",
   "id": "4c1ccb43",
   "metadata": {},
   "source": [
    "#### Outlier Detection"
   ]
  },
  {
   "cell_type": "markdown",
   "id": "aa5eadae",
   "metadata": {},
   "source": [
    "- Amount Outliers"
   ]
  },
  {
   "cell_type": "code",
   "execution_count": 9,
   "id": "c78e88b8",
   "metadata": {},
   "outputs": [
    {
     "data": {
      "text/plain": [
       "44945"
      ]
     },
     "execution_count": 9,
     "metadata": {},
     "output_type": "execute_result"
    }
   ],
   "source": [
    "fraud['amount_zscore'] = zscore(fraud['amount'])\n",
    "amount_outliers = fraud[np.abs(fraud['amount_zscore'])>3]\n",
    "len(amount_outliers)"
   ]
  },
  {
   "cell_type": "code",
   "execution_count": 10,
   "id": "ed625e73",
   "metadata": {},
   "outputs": [
    {
     "data": {
      "text/plain": [
       "(6317675, 12)"
      ]
     },
     "execution_count": 10,
     "metadata": {},
     "output_type": "execute_result"
    }
   ],
   "source": [
    "fraud = fraud[(fraud['amount_zscore']<=3) & (fraud['amount_zscore']>=-3)]\n",
    "fraud.shape"
   ]
  },
  {
   "cell_type": "markdown",
   "id": "26046940",
   "metadata": {},
   "source": [
    "- OldbalanceOrg Outliers"
   ]
  },
  {
   "cell_type": "code",
   "execution_count": 11,
   "id": "e7f32cf0",
   "metadata": {},
   "outputs": [
    {
     "data": {
      "text/plain": [
       "154135"
      ]
     },
     "execution_count": 11,
     "metadata": {},
     "output_type": "execute_result"
    }
   ],
   "source": [
    "fraud['oldbalanceOrg_zscore'] = zscore(fraud['oldbalanceOrg'])\n",
    "oldbalanceOrg_outliers = fraud[np.abs(fraud['oldbalanceOrg_zscore'])>3]\n",
    "len(oldbalanceOrg_outliers)"
   ]
  },
  {
   "cell_type": "code",
   "execution_count": 12,
   "id": "e5c3721a",
   "metadata": {},
   "outputs": [
    {
     "data": {
      "text/plain": [
       "(6163540, 13)"
      ]
     },
     "execution_count": 12,
     "metadata": {},
     "output_type": "execute_result"
    }
   ],
   "source": [
    "fraud = fraud[(fraud['oldbalanceOrg_zscore']<=3) & (fraud['oldbalanceOrg_zscore']>=-3)]\n",
    "fraud.shape"
   ]
  },
  {
   "cell_type": "markdown",
   "id": "930386f4",
   "metadata": {},
   "source": [
    "- newbalanceOrig Outliers"
   ]
  },
  {
   "cell_type": "code",
   "execution_count": 13,
   "id": "0a3afce9",
   "metadata": {},
   "outputs": [
    {
     "data": {
      "text/plain": [
       "228545"
      ]
     },
     "execution_count": 13,
     "metadata": {},
     "output_type": "execute_result"
    }
   ],
   "source": [
    "fraud['newbalanceOrig_zscore'] = zscore(fraud['newbalanceOrig'])\n",
    "newbalanceOrig_outliers = fraud[np.abs(fraud['newbalanceOrig_zscore'])>3]\n",
    "len(newbalanceOrig_outliers)"
   ]
  },
  {
   "cell_type": "code",
   "execution_count": 14,
   "id": "806eb001",
   "metadata": {},
   "outputs": [
    {
     "data": {
      "text/plain": [
       "(5934995, 14)"
      ]
     },
     "execution_count": 14,
     "metadata": {},
     "output_type": "execute_result"
    }
   ],
   "source": [
    "fraud = fraud[(fraud['newbalanceOrig_zscore']<=3) & (fraud['newbalanceOrig_zscore']>=-3)]\n",
    "fraud.shape"
   ]
  },
  {
   "cell_type": "markdown",
   "id": "05e93481",
   "metadata": {},
   "source": [
    "- oldbalanceDest Outliers"
   ]
  },
  {
   "cell_type": "code",
   "execution_count": 15,
   "id": "c36eb368",
   "metadata": {},
   "outputs": [
    {
     "data": {
      "text/plain": [
       "82424"
      ]
     },
     "execution_count": 15,
     "metadata": {},
     "output_type": "execute_result"
    }
   ],
   "source": [
    "fraud['oldbalanceDest_zscore'] = zscore(fraud['oldbalanceDest'])\n",
    "oldbalanceDest_outliers = fraud[np.abs(fraud['oldbalanceDest_zscore'])>3]\n",
    "len(oldbalanceDest_outliers)"
   ]
  },
  {
   "cell_type": "code",
   "execution_count": 16,
   "id": "b71e7075",
   "metadata": {},
   "outputs": [
    {
     "data": {
      "text/plain": [
       "(5852571, 15)"
      ]
     },
     "execution_count": 16,
     "metadata": {},
     "output_type": "execute_result"
    }
   ],
   "source": [
    "fraud = fraud[(fraud['oldbalanceDest_zscore']<=3) & (fraud['oldbalanceDest_zscore']>=-3)]\n",
    "fraud.shape"
   ]
  },
  {
   "cell_type": "markdown",
   "id": "b456cd64",
   "metadata": {},
   "source": [
    "- newbalanceDest Outliers"
   ]
  },
  {
   "cell_type": "code",
   "execution_count": 17,
   "id": "f8856231",
   "metadata": {},
   "outputs": [
    {
     "data": {
      "text/plain": [
       "168235"
      ]
     },
     "execution_count": 17,
     "metadata": {},
     "output_type": "execute_result"
    }
   ],
   "source": [
    "fraud['newbalanceDest_zscore'] = zscore(fraud['newbalanceDest'])\n",
    "newbalanceDest_outliers = fraud[np.abs(fraud['newbalanceDest_zscore'])>3]\n",
    "len(newbalanceDest_outliers)"
   ]
  },
  {
   "cell_type": "code",
   "execution_count": 18,
   "id": "42483d5c",
   "metadata": {},
   "outputs": [
    {
     "data": {
      "text/plain": [
       "(5684336, 16)"
      ]
     },
     "execution_count": 18,
     "metadata": {},
     "output_type": "execute_result"
    }
   ],
   "source": [
    "fraud = fraud[(fraud['newbalanceDest_zscore']<=3) & (fraud['newbalanceDest_zscore']>=-3)]\n",
    "fraud.shape"
   ]
  },
  {
   "cell_type": "code",
   "execution_count": null,
   "id": "51ca080e",
   "metadata": {},
   "outputs": [],
   "source": []
  },
  {
   "cell_type": "code",
   "execution_count": 19,
   "id": "7352d20a",
   "metadata": {},
   "outputs": [
    {
     "data": {
      "text/plain": [
       "0    5677967\n",
       "1       6369\n",
       "Name: isFraud, dtype: int64"
      ]
     },
     "execution_count": 19,
     "metadata": {},
     "output_type": "execute_result"
    }
   ],
   "source": [
    "# Check the distribution of the target variable\n",
    "fraud['isFraud'].value_counts()"
   ]
  },
  {
   "cell_type": "code",
   "execution_count": 20,
   "id": "fabf86b5",
   "metadata": {
    "scrolled": true
   },
   "outputs": [
    {
     "data": {
      "text/plain": [
       "0    0.99888\n",
       "1    0.00112\n",
       "Name: isFraud, dtype: float64"
      ]
     },
     "execution_count": 20,
     "metadata": {},
     "output_type": "execute_result"
    }
   ],
   "source": [
    "#Normalize True to get counts proportion or percentage instead of raw counts\n",
    "fraud['isFraud'].value_counts(normalize=True) "
   ]
  },
  {
   "cell_type": "code",
   "execution_count": 21,
   "id": "ef0210f6",
   "metadata": {
    "scrolled": true
   },
   "outputs": [
    {
     "data": {
      "text/plain": [
       "array(['PAYMENT', 'TRANSFER', 'CASH_OUT', 'DEBIT', 'CASH_IN'],\n",
       "      dtype=object)"
      ]
     },
     "execution_count": 21,
     "metadata": {},
     "output_type": "execute_result"
    }
   ],
   "source": [
    "# Unique payment types\n",
    "fraud['type'].unique()"
   ]
  },
  {
   "cell_type": "markdown",
   "id": "3e76bf86",
   "metadata": {},
   "source": [
    "### Feature Engineering"
   ]
  },
  {
   "cell_type": "code",
   "execution_count": 22,
   "id": "b04fd016",
   "metadata": {},
   "outputs": [],
   "source": [
    "# Encode categorical variable 'type'\n",
    "encoding = LabelEncoder()\n",
    "fraud['type'] = encoding.fit_transform(fraud['type'])"
   ]
  },
  {
   "cell_type": "code",
   "execution_count": 24,
   "id": "d4c0caaa",
   "metadata": {},
   "outputs": [],
   "source": [
    "# Additional features like balance difference\n",
    "fraud['balance_change_org'] = fraud['oldbalanceOrg'] - fraud['newbalanceOrig']\n",
    "fraud['balance_change_dest'] = fraud['oldbalanceDest'] - fraud['newbalanceDest']"
   ]
  },
  {
   "cell_type": "code",
   "execution_count": 23,
   "id": "515b8ea4",
   "metadata": {},
   "outputs": [],
   "source": [
    "# Convert 'step' into additional time-related features\n",
    "fraud['hour_of_day'] = fraud['step'] % 24  # Extract hour of the day\n",
    "fraud['day_of_week'] = (fraud['step'] // 24) % 7  # Extract day of the week\n"
   ]
  },
  {
   "cell_type": "code",
   "execution_count": 25,
   "id": "78074203",
   "metadata": {
    "scrolled": true
   },
   "outputs": [
    {
     "data": {
      "text/html": [
       "<div>\n",
       "<style scoped>\n",
       "    .dataframe tbody tr th:only-of-type {\n",
       "        vertical-align: middle;\n",
       "    }\n",
       "\n",
       "    .dataframe tbody tr th {\n",
       "        vertical-align: top;\n",
       "    }\n",
       "\n",
       "    .dataframe thead th {\n",
       "        text-align: right;\n",
       "    }\n",
       "</style>\n",
       "<table border=\"1\" class=\"dataframe\">\n",
       "  <thead>\n",
       "    <tr style=\"text-align: right;\">\n",
       "      <th></th>\n",
       "      <th>step</th>\n",
       "      <th>type</th>\n",
       "      <th>amount</th>\n",
       "      <th>nameOrig</th>\n",
       "      <th>oldbalanceOrg</th>\n",
       "      <th>newbalanceOrig</th>\n",
       "      <th>nameDest</th>\n",
       "      <th>oldbalanceDest</th>\n",
       "      <th>newbalanceDest</th>\n",
       "      <th>isFraud</th>\n",
       "      <th>isFlaggedFraud</th>\n",
       "      <th>amount_zscore</th>\n",
       "      <th>oldbalanceOrg_zscore</th>\n",
       "      <th>newbalanceOrig_zscore</th>\n",
       "      <th>oldbalanceDest_zscore</th>\n",
       "      <th>newbalanceDest_zscore</th>\n",
       "      <th>hour_of_day</th>\n",
       "      <th>day_of_week</th>\n",
       "      <th>balance_change_org</th>\n",
       "      <th>balance_change_dest</th>\n",
       "    </tr>\n",
       "  </thead>\n",
       "  <tbody>\n",
       "    <tr>\n",
       "      <th>0</th>\n",
       "      <td>1</td>\n",
       "      <td>3</td>\n",
       "      <td>9839.64</td>\n",
       "      <td>C1231006815</td>\n",
       "      <td>170136.0</td>\n",
       "      <td>160296.36</td>\n",
       "      <td>M1979787155</td>\n",
       "      <td>0.0</td>\n",
       "      <td>0.0</td>\n",
       "      <td>0</td>\n",
       "      <td>0</td>\n",
       "      <td>-0.281560</td>\n",
       "      <td>-0.230665</td>\n",
       "      <td>-0.216546</td>\n",
       "      <td>-0.324808</td>\n",
       "      <td>-0.537582</td>\n",
       "      <td>1</td>\n",
       "      <td>0</td>\n",
       "      <td>9839.64</td>\n",
       "      <td>0.0</td>\n",
       "    </tr>\n",
       "    <tr>\n",
       "      <th>1</th>\n",
       "      <td>1</td>\n",
       "      <td>3</td>\n",
       "      <td>1864.28</td>\n",
       "      <td>C1666544295</td>\n",
       "      <td>21249.0</td>\n",
       "      <td>19384.72</td>\n",
       "      <td>M2044282225</td>\n",
       "      <td>0.0</td>\n",
       "      <td>0.0</td>\n",
       "      <td>0</td>\n",
       "      <td>0</td>\n",
       "      <td>-0.294767</td>\n",
       "      <td>-0.282097</td>\n",
       "      <td>-0.311289</td>\n",
       "      <td>-0.324808</td>\n",
       "      <td>-0.537582</td>\n",
       "      <td>1</td>\n",
       "      <td>0</td>\n",
       "      <td>1864.28</td>\n",
       "      <td>0.0</td>\n",
       "    </tr>\n",
       "    <tr>\n",
       "      <th>2</th>\n",
       "      <td>1</td>\n",
       "      <td>4</td>\n",
       "      <td>181.00</td>\n",
       "      <td>C1305486145</td>\n",
       "      <td>181.0</td>\n",
       "      <td>0.00</td>\n",
       "      <td>C553264065</td>\n",
       "      <td>0.0</td>\n",
       "      <td>0.0</td>\n",
       "      <td>1</td>\n",
       "      <td>0</td>\n",
       "      <td>-0.297555</td>\n",
       "      <td>-0.289375</td>\n",
       "      <td>-0.324323</td>\n",
       "      <td>-0.324808</td>\n",
       "      <td>-0.537582</td>\n",
       "      <td>1</td>\n",
       "      <td>0</td>\n",
       "      <td>181.00</td>\n",
       "      <td>0.0</td>\n",
       "    </tr>\n",
       "    <tr>\n",
       "      <th>3</th>\n",
       "      <td>1</td>\n",
       "      <td>1</td>\n",
       "      <td>181.00</td>\n",
       "      <td>C840083671</td>\n",
       "      <td>181.0</td>\n",
       "      <td>0.00</td>\n",
       "      <td>C38997010</td>\n",
       "      <td>21182.0</td>\n",
       "      <td>0.0</td>\n",
       "      <td>1</td>\n",
       "      <td>0</td>\n",
       "      <td>-0.297555</td>\n",
       "      <td>-0.289375</td>\n",
       "      <td>-0.324323</td>\n",
       "      <td>-0.317912</td>\n",
       "      <td>-0.537582</td>\n",
       "      <td>1</td>\n",
       "      <td>0</td>\n",
       "      <td>181.00</td>\n",
       "      <td>21182.0</td>\n",
       "    </tr>\n",
       "    <tr>\n",
       "      <th>4</th>\n",
       "      <td>1</td>\n",
       "      <td>3</td>\n",
       "      <td>11668.14</td>\n",
       "      <td>C2048537720</td>\n",
       "      <td>41554.0</td>\n",
       "      <td>29885.86</td>\n",
       "      <td>M1230701703</td>\n",
       "      <td>0.0</td>\n",
       "      <td>0.0</td>\n",
       "      <td>0</td>\n",
       "      <td>0</td>\n",
       "      <td>-0.278532</td>\n",
       "      <td>-0.275083</td>\n",
       "      <td>-0.304229</td>\n",
       "      <td>-0.324808</td>\n",
       "      <td>-0.537582</td>\n",
       "      <td>1</td>\n",
       "      <td>0</td>\n",
       "      <td>11668.14</td>\n",
       "      <td>0.0</td>\n",
       "    </tr>\n",
       "  </tbody>\n",
       "</table>\n",
       "</div>"
      ],
      "text/plain": [
       "   step  type    amount     nameOrig  oldbalanceOrg  newbalanceOrig  \\\n",
       "0     1     3   9839.64  C1231006815       170136.0       160296.36   \n",
       "1     1     3   1864.28  C1666544295        21249.0        19384.72   \n",
       "2     1     4    181.00  C1305486145          181.0            0.00   \n",
       "3     1     1    181.00   C840083671          181.0            0.00   \n",
       "4     1     3  11668.14  C2048537720        41554.0        29885.86   \n",
       "\n",
       "      nameDest  oldbalanceDest  newbalanceDest  isFraud  isFlaggedFraud  \\\n",
       "0  M1979787155             0.0             0.0        0               0   \n",
       "1  M2044282225             0.0             0.0        0               0   \n",
       "2   C553264065             0.0             0.0        1               0   \n",
       "3    C38997010         21182.0             0.0        1               0   \n",
       "4  M1230701703             0.0             0.0        0               0   \n",
       "\n",
       "   amount_zscore  oldbalanceOrg_zscore  newbalanceOrig_zscore  \\\n",
       "0      -0.281560             -0.230665              -0.216546   \n",
       "1      -0.294767             -0.282097              -0.311289   \n",
       "2      -0.297555             -0.289375              -0.324323   \n",
       "3      -0.297555             -0.289375              -0.324323   \n",
       "4      -0.278532             -0.275083              -0.304229   \n",
       "\n",
       "   oldbalanceDest_zscore  newbalanceDest_zscore  hour_of_day  day_of_week  \\\n",
       "0              -0.324808              -0.537582            1            0   \n",
       "1              -0.324808              -0.537582            1            0   \n",
       "2              -0.324808              -0.537582            1            0   \n",
       "3              -0.317912              -0.537582            1            0   \n",
       "4              -0.324808              -0.537582            1            0   \n",
       "\n",
       "   balance_change_org  balance_change_dest  \n",
       "0             9839.64                  0.0  \n",
       "1             1864.28                  0.0  \n",
       "2              181.00                  0.0  \n",
       "3              181.00              21182.0  \n",
       "4            11668.14                  0.0  "
      ]
     },
     "execution_count": 25,
     "metadata": {},
     "output_type": "execute_result"
    }
   ],
   "source": [
    "fraud.head()"
   ]
  },
  {
   "cell_type": "markdown",
   "id": "0ecd4abe",
   "metadata": {},
   "source": [
    "### Data Preprocessing:"
   ]
  },
  {
   "cell_type": "code",
   "execution_count": 26,
   "id": "570d8559",
   "metadata": {},
   "outputs": [],
   "source": [
    "# Separate features and target variable\n",
    "X = fraud.drop(['isFraud', 'nameOrig','newbalanceOrig','nameDest','isFlaggedFraud','amount_zscore','oldbalanceDest','oldbalanceOrg_zscore','newbalanceOrig_zscore','oldbalanceDest_zscore','newbalanceDest_zscore'], axis=1)\n",
    "y = fraud['isFraud']"
   ]
  },
  {
   "cell_type": "code",
   "execution_count": 27,
   "id": "14bc2de9",
   "metadata": {},
   "outputs": [
    {
     "data": {
      "image/png": "[encoded data removed]",
      "text/plain": [
       "<Figure size 1000x600 with 2 Axes>"
      ]
     },
     "metadata": {},
     "output_type": "display_data"
    }
   ],
   "source": [
    "# Correlation in between the independent variables\n",
    "plt.figure(figsize=(10,6))\n",
    "sns.heatmap(X.corr(),annot=True, fmt='.2f')\n",
    "plt.title('Correlation Matrix')\n",
    "plt.show()"
   ]
  },
  {
   "cell_type": "code",
   "execution_count": 28,
   "id": "9e234711",
   "metadata": {},
   "outputs": [
    {
     "name": "stdout",
     "output_type": "stream",
     "text": [
      "              Variable        VIF\n",
      "0                const  20.999747\n",
      "1                 step   1.025880\n",
      "2                 type   1.345662\n",
      "3               amount   3.274007\n",
      "4        oldbalanceOrg   1.199565\n",
      "5       newbalanceDest   1.353677\n",
      "6          hour_of_day   1.007764\n",
      "7          day_of_week   1.017846\n",
      "8   balance_change_org   1.940762\n",
      "9  balance_change_dest   3.999988\n"
     ]
    }
   ],
   "source": [
    "# Check for Multicollinearity\n",
    "X_with_constant = add_constant(X)\n",
    "vif = pd.DataFrame()\n",
    "vif['Variable'] = X_with_constant.columns\n",
    "vif['VIF'] = [variance_inflation_factor(X_with_constant.values, i) for i in range(X_with_constant.shape[1])]\n",
    "\n",
    "print(vif)"
   ]
  },
  {
   "cell_type": "code",
   "execution_count": 29,
   "id": "1ffee70a",
   "metadata": {},
   "outputs": [],
   "source": [
    "# Split the data into training and testing sets\n",
    "X_train, X_test, y_train, y_test = train_test_split(X, y, test_size=0.3, random_state=42)"
   ]
  },
  {
   "cell_type": "code",
   "execution_count": 30,
   "id": "f9d2e686",
   "metadata": {},
   "outputs": [],
   "source": [
    "# Scale the features\n",
    "scaler = StandardScaler()\n",
    "X_train = scaler.fit_transform(X_train)\n",
    "X_test = scaler.transform(X_test)"
   ]
  },
  {
   "cell_type": "code",
   "execution_count": 31,
   "id": "2fcb5fd7",
   "metadata": {},
   "outputs": [
    {
     "data": {
      "text/plain": [
       "['scaler.pkl']"
      ]
     },
     "execution_count": 31,
     "metadata": {},
     "output_type": "execute_result"
    }
   ],
   "source": [
    "joblib.dump(scaler, 'scaler.pkl')"
   ]
  },
  {
   "cell_type": "markdown",
   "id": "742529a1",
   "metadata": {},
   "source": [
    "### Model Development:"
   ]
  },
  {
   "cell_type": "code",
   "execution_count": 32,
   "id": "50702698",
   "metadata": {},
   "outputs": [],
   "source": [
    "# Initialise Random Forest Classifier Model\n",
    "rf = RandomForestClassifier(class_weight='balanced', random_state = 42)"
   ]
  },
  {
   "cell_type": "code",
   "execution_count": 33,
   "id": "3b071e98",
   "metadata": {},
   "outputs": [],
   "source": [
    "scale_pos_weight = len(y_train[y_train == 0]) / len(y_train[y_train == 1])\n",
    "\n",
    "# Initialize XGBoost with the scale_pos_weight\n",
    "xgb = XGBClassifier(scale_pos_weight=scale_pos_weight, random_state=42)"
   ]
  },
  {
   "cell_type": "code",
   "execution_count": 34,
   "id": "1d4dd8d3",
   "metadata": {
    "scrolled": true
   },
   "outputs": [
    {
     "data": {
      "text/html": [
       "<style>#sk-container-id-1 {color: black;background-color: white;}#sk-container-id-1 pre{padding: 0;}#sk-container-id-1 div.sk-toggleable {background-color: white;}#sk-container-id-1 label.sk-toggleable__label {cursor: pointer;display: block;width: 100%;margin-bottom: 0;padding: 0.3em;box-sizing: border-box;text-align: center;}#sk-container-id-1 label.sk-toggleable__label-arrow:before {content: \"▸\";float: left;margin-right: 0.25em;color: #696969;}#sk-container-id-1 label.sk-toggleable__label-arrow:hover:before {color: black;}#sk-container-id-1 div.sk-estimator:hover label.sk-toggleable__label-arrow:before {color: black;}#sk-container-id-1 div.sk-toggleable__content {max-height: 0;max-width: 0;overflow: hidden;text-align: left;background-color: #f0f8ff;}#sk-container-id-1 div.sk-toggleable__content pre {margin: 0.2em;color: black;border-radius: 0.25em;background-color: #f0f8ff;}#sk-container-id-1 input.sk-toggleable__control:checked~div.sk-toggleable__content {max-height: 200px;max-width: 100%;overflow: auto;}#sk-container-id-1 input.sk-toggleable__control:checked~label.sk-toggleable__label-arrow:before {content: \"▾\";}#sk-container-id-1 div.sk-estimator input.sk-toggleable__control:checked~label.sk-toggleable__label {background-color: #d4ebff;}#sk-container-id-1 div.sk-label input.sk-toggleable__control:checked~label.sk-toggleable__label {background-color: #d4ebff;}#sk-container-id-1 input.sk-hidden--visually {border: 0;clip: rect(1px 1px 1px 1px);clip: rect(1px, 1px, 1px, 1px);height: 1px;margin: -1px;overflow: hidden;padding: 0;position: absolute;width: 1px;}#sk-container-id-1 div.sk-estimator {font-family: monospace;background-color: #f0f8ff;border: 1px dotted black;border-radius: 0.25em;box-sizing: border-box;margin-bottom: 0.5em;}#sk-container-id-1 div.sk-estimator:hover {background-color: #d4ebff;}#sk-container-id-1 div.sk-parallel-item::after {content: \"\";width: 100%;border-bottom: 1px solid gray;flex-grow: 1;}#sk-container-id-1 div.sk-label:hover label.sk-toggleable__label {background-color: #d4ebff;}#sk-container-id-1 div.sk-serial::before {content: \"\";position: absolute;border-left: 1px solid gray;box-sizing: border-box;top: 0;bottom: 0;left: 50%;z-index: 0;}#sk-container-id-1 div.sk-serial {display: flex;flex-direction: column;align-items: center;background-color: white;padding-right: 0.2em;padding-left: 0.2em;position: relative;}#sk-container-id-1 div.sk-item {position: relative;z-index: 1;}#sk-container-id-1 div.sk-parallel {display: flex;align-items: stretch;justify-content: center;background-color: white;position: relative;}#sk-container-id-1 div.sk-item::before, #sk-container-id-1 div.sk-parallel-item::before {content: \"\";position: absolute;border-left: 1px solid gray;box-sizing: border-box;top: 0;bottom: 0;left: 50%;z-index: -1;}#sk-container-id-1 div.sk-parallel-item {display: flex;flex-direction: column;z-index: 1;position: relative;background-color: white;}#sk-container-id-1 div.sk-parallel-item:first-child::after {align-self: flex-end;width: 50%;}#sk-container-id-1 div.sk-parallel-item:last-child::after {align-self: flex-start;width: 50%;}#sk-container-id-1 div.sk-parallel-item:only-child::after {width: 0;}#sk-container-id-1 div.sk-dashed-wrapped {border: 1px dashed gray;margin: 0 0.4em 0.5em 0.4em;box-sizing: border-box;padding-bottom: 0.4em;background-color: white;}#sk-container-id-1 div.sk-label label {font-family: monospace;font-weight: bold;display: inline-block;line-height: 1.2em;}#sk-container-id-1 div.sk-label-container {text-align: center;}#sk-container-id-1 div.sk-container {/* jupyter's `normalize.less` sets `[hidden] { display: none; }` but bootstrap.min.css set `[hidden] { display: none !important; }` so we also need the `!important` here to be able to override the default hidden behavior on the sphinx rendered scikit-learn.org. See: https://github.com/scikit-learn/scikit-learn/issues/21755 */display: inline-block !important;position: relative;}#sk-container-id-1 div.sk-text-repr-fallback {display: none;}</style><div id=\"sk-container-id-1\" class=\"sk-top-container\"><div class=\"sk-text-repr-fallback\"><pre>RandomForestClassifier(class_weight=&#x27;balanced&#x27;, random_state=42)</pre><b>In a Jupyter environment, please rerun this cell to show the HTML representation or trust the notebook. <br />On GitHub, the HTML representation is unable to render, please try loading this page with nbviewer.org.</b></div><div class=\"sk-container\" hidden><div class=\"sk-item\"><div class=\"sk-estimator sk-toggleable\"><input class=\"sk-toggleable__control sk-hidden--visually\" id=\"sk-estimator-id-1\" type=\"checkbox\" checked><label for=\"sk-estimator-id-1\" class=\"sk-toggleable__label sk-toggleable__label-arrow\">RandomForestClassifier</label><div class=\"sk-toggleable__content\"><pre>RandomForestClassifier(class_weight=&#x27;balanced&#x27;, random_state=42)</pre></div></div></div></div></div>"
      ],
      "text/plain": [
       "RandomForestClassifier(class_weight='balanced', random_state=42)"
      ]
     },
     "execution_count": 34,
     "metadata": {},
     "output_type": "execute_result"
    }
   ],
   "source": [
    "# Model training on Random Forest Classifier\n",
    "rf.fit(X_train,y_train)"
   ]
  },
  {
   "cell_type": "code",
   "execution_count": 35,
   "id": "74901734",
   "metadata": {
    "scrolled": true
   },
   "outputs": [
    {
     "data": {
      "text/plain": [
       "['rf.pkl']"
      ]
     },
     "execution_count": 35,
     "metadata": {},
     "output_type": "execute_result"
    }
   ],
   "source": [
    "joblib.dump(rf, 'rf.pkl')"
   ]
  },
  {
   "cell_type": "code",
   "execution_count": 36,
   "id": "1034be16",
   "metadata": {},
   "outputs": [
    {
     "name": "stdout",
     "output_type": "stream",
     "text": [
      "step:0.0462110063703583\n",
      "type:0.10517203031013743\n",
      "amount:0.0901353223469656\n",
      "oldbalanceOrg:0.15670233887447382\n",
      "newbalanceDest:0.04699473280721926\n",
      "hour_of_day:0.05163941880224296\n",
      "day_of_week:0.0030220916598833586\n",
      "balance_change_org:0.4068399105316615\n",
      "balance_change_dest:0.09328314829705771\n"
     ]
    }
   ],
   "source": [
    "# Get feature importances from the RandomForest model\n",
    "rf_importance = rf.feature_importances_\n",
    "for col, importance in zip(X.columns, rf_importance):\n",
    "    print(f'{col}:{importance}')"
   ]
  },
  {
   "cell_type": "code",
   "execution_count": 37,
   "id": "8b5562cb",
   "metadata": {
    "scrolled": true
   },
   "outputs": [
    {
     "data": {
      "text/html": [
       "<style>#sk-container-id-2 {color: black;background-color: white;}#sk-container-id-2 pre{padding: 0;}#sk-container-id-2 div.sk-toggleable {background-color: white;}#sk-container-id-2 label.sk-toggleable__label {cursor: pointer;display: block;width: 100%;margin-bottom: 0;padding: 0.3em;box-sizing: border-box;text-align: center;}#sk-container-id-2 label.sk-toggleable__label-arrow:before {content: \"▸\";float: left;margin-right: 0.25em;color: #696969;}#sk-container-id-2 label.sk-toggleable__label-arrow:hover:before {color: black;}#sk-container-id-2 div.sk-estimator:hover label.sk-toggleable__label-arrow:before {color: black;}#sk-container-id-2 div.sk-toggleable__content {max-height: 0;max-width: 0;overflow: hidden;text-align: left;background-color: #f0f8ff;}#sk-container-id-2 div.sk-toggleable__content pre {margin: 0.2em;color: black;border-radius: 0.25em;background-color: #f0f8ff;}#sk-container-id-2 input.sk-toggleable__control:checked~div.sk-toggleable__content {max-height: 200px;max-width: 100%;overflow: auto;}#sk-container-id-2 input.sk-toggleable__control:checked~label.sk-toggleable__label-arrow:before {content: \"▾\";}#sk-container-id-2 div.sk-estimator input.sk-toggleable__control:checked~label.sk-toggleable__label {background-color: #d4ebff;}#sk-container-id-2 div.sk-label input.sk-toggleable__control:checked~label.sk-toggleable__label {background-color: #d4ebff;}#sk-container-id-2 input.sk-hidden--visually {border: 0;clip: rect(1px 1px 1px 1px);clip: rect(1px, 1px, 1px, 1px);height: 1px;margin: -1px;overflow: hidden;padding: 0;position: absolute;width: 1px;}#sk-container-id-2 div.sk-estimator {font-family: monospace;background-color: #f0f8ff;border: 1px dotted black;border-radius: 0.25em;box-sizing: border-box;margin-bottom: 0.5em;}#sk-container-id-2 div.sk-estimator:hover {background-color: #d4ebff;}#sk-container-id-2 div.sk-parallel-item::after {content: \"\";width: 100%;border-bottom: 1px solid gray;flex-grow: 1;}#sk-container-id-2 div.sk-label:hover label.sk-toggleable__label {background-color: #d4ebff;}#sk-container-id-2 div.sk-serial::before {content: \"\";position: absolute;border-left: 1px solid gray;box-sizing: border-box;top: 0;bottom: 0;left: 50%;z-index: 0;}#sk-container-id-2 div.sk-serial {display: flex;flex-direction: column;align-items: center;background-color: white;padding-right: 0.2em;padding-left: 0.2em;position: relative;}#sk-container-id-2 div.sk-item {position: relative;z-index: 1;}#sk-container-id-2 div.sk-parallel {display: flex;align-items: stretch;justify-content: center;background-color: white;position: relative;}#sk-container-id-2 div.sk-item::before, #sk-container-id-2 div.sk-parallel-item::before {content: \"\";position: absolute;border-left: 1px solid gray;box-sizing: border-box;top: 0;bottom: 0;left: 50%;z-index: -1;}#sk-container-id-2 div.sk-parallel-item {display: flex;flex-direction: column;z-index: 1;position: relative;background-color: white;}#sk-container-id-2 div.sk-parallel-item:first-child::after {align-self: flex-end;width: 50%;}#sk-container-id-2 div.sk-parallel-item:last-child::after {align-self: flex-start;width: 50%;}#sk-container-id-2 div.sk-parallel-item:only-child::after {width: 0;}#sk-container-id-2 div.sk-dashed-wrapped {border: 1px dashed gray;margin: 0 0.4em 0.5em 0.4em;box-sizing: border-box;padding-bottom: 0.4em;background-color: white;}#sk-container-id-2 div.sk-label label {font-family: monospace;font-weight: bold;display: inline-block;line-height: 1.2em;}#sk-container-id-2 div.sk-label-container {text-align: center;}#sk-container-id-2 div.sk-container {/* jupyter's `normalize.less` sets `[hidden] { display: none; }` but bootstrap.min.css set `[hidden] { display: none !important; }` so we also need the `!important` here to be able to override the default hidden behavior on the sphinx rendered scikit-learn.org. See: https://github.com/scikit-learn/scikit-learn/issues/21755 */display: inline-block !important;position: relative;}#sk-container-id-2 div.sk-text-repr-fallback {display: none;}</style><div id=\"sk-container-id-2\" class=\"sk-top-container\"><div class=\"sk-text-repr-fallback\"><pre>XGBClassifier(base_score=None, booster=None, callbacks=None,\n",
       "              colsample_bylevel=None, colsample_bynode=None,\n",
       "              colsample_bytree=None, device=None, early_stopping_rounds=None,\n",
       "              enable_categorical=False, eval_metric=None, feature_types=None,\n",
       "              gamma=None, grow_policy=None, importance_type=None,\n",
       "              interaction_constraints=None, learning_rate=None, max_bin=None,\n",
       "              max_cat_threshold=None, max_cat_to_onehot=None,\n",
       "              max_delta_step=None, max_depth=None, max_leaves=None,\n",
       "              min_child_weight=None, missing=nan, monotone_constraints=None,\n",
       "              multi_strategy=None, n_estimators=None, n_jobs=None,\n",
       "              num_parallel_tree=None, random_state=42, ...)</pre><b>In a Jupyter environment, please rerun this cell to show the HTML representation or trust the notebook. <br />On GitHub, the HTML representation is unable to render, please try loading this page with nbviewer.org.</b></div><div class=\"sk-container\" hidden><div class=\"sk-item\"><div class=\"sk-estimator sk-toggleable\"><input class=\"sk-toggleable__control sk-hidden--visually\" id=\"sk-estimator-id-2\" type=\"checkbox\" checked><label for=\"sk-estimator-id-2\" class=\"sk-toggleable__label sk-toggleable__label-arrow\">XGBClassifier</label><div class=\"sk-toggleable__content\"><pre>XGBClassifier(base_score=None, booster=None, callbacks=None,\n",
       "              colsample_bylevel=None, colsample_bynode=None,\n",
       "              colsample_bytree=None, device=None, early_stopping_rounds=None,\n",
       "              enable_categorical=False, eval_metric=None, feature_types=None,\n",
       "              gamma=None, grow_policy=None, importance_type=None,\n",
       "              interaction_constraints=None, learning_rate=None, max_bin=None,\n",
       "              max_cat_threshold=None, max_cat_to_onehot=None,\n",
       "              max_delta_step=None, max_depth=None, max_leaves=None,\n",
       "              min_child_weight=None, missing=nan, monotone_constraints=None,\n",
       "              multi_strategy=None, n_estimators=None, n_jobs=None,\n",
       "              num_parallel_tree=None, random_state=42, ...)</pre></div></div></div></div></div>"
      ],
      "text/plain": [
       "XGBClassifier(base_score=None, booster=None, callbacks=None,\n",
       "              colsample_bylevel=None, colsample_bynode=None,\n",
       "              colsample_bytree=None, device=None, early_stopping_rounds=None,\n",
       "              enable_categorical=False, eval_metric=None, feature_types=None,\n",
       "              gamma=None, grow_policy=None, importance_type=None,\n",
       "              interaction_constraints=None, learning_rate=None, max_bin=None,\n",
       "              max_cat_threshold=None, max_cat_to_onehot=None,\n",
       "              max_delta_step=None, max_depth=None, max_leaves=None,\n",
       "              min_child_weight=None, missing=nan, monotone_constraints=None,\n",
       "              multi_strategy=None, n_estimators=None, n_jobs=None,\n",
       "              num_parallel_tree=None, random_state=42, ...)"
      ]
     },
     "execution_count": 37,
     "metadata": {},
     "output_type": "execute_result"
    }
   ],
   "source": [
    "# Model training on XGBOOST\n",
    "xgb.fit(X_train,y_train)"
   ]
  },
  {
   "cell_type": "code",
   "execution_count": 38,
   "id": "8be04495",
   "metadata": {},
   "outputs": [
    {
     "data": {
      "text/plain": [
       "['xgb.pkl']"
      ]
     },
     "execution_count": 38,
     "metadata": {},
     "output_type": "execute_result"
    }
   ],
   "source": [
    "joblib.dump(xgb, 'xgb.pkl')"
   ]
  },
  {
   "cell_type": "code",
   "execution_count": 39,
   "id": "bafeb5fd",
   "metadata": {},
   "outputs": [
    {
     "name": "stdout",
     "output_type": "stream",
     "text": [
      "step:0.021149693056941032\n",
      "type:0.10253989696502686\n",
      "amount:0.07320841401815414\n",
      "oldbalanceOrg:0.05053162947297096\n",
      "newbalanceDest:0.05931584909558296\n",
      "hour_of_day:0.06332630664110184\n",
      "day_of_week:0.062159519642591476\n",
      "balance_change_org:0.5263903737068176\n",
      "balance_change_dest:0.04137827828526497\n"
     ]
    }
   ],
   "source": [
    "# Get feature importances from the XGBoost model\n",
    "xgb_importance = xgb.feature_importances_\n",
    "for col, importance in zip(X.columns, xgb_importance):\n",
    "    print(f'{col}:{importance}')"
   ]
  },
  {
   "cell_type": "code",
   "execution_count": 40,
   "id": "848e89c9",
   "metadata": {},
   "outputs": [],
   "source": [
    "# Generate out-of-fold predictions\n",
    "rf_pred = rf.predict_proba(X_test)[:, 1]\n",
    "xgb_pred = xgb.predict_proba(X_test)[:, 1]"
   ]
  },
  {
   "cell_type": "code",
   "execution_count": 41,
   "id": "97ec59c2",
   "metadata": {},
   "outputs": [],
   "source": [
    "# Combine predictions into a new feature set\n",
    "stacked_predictions = np.column_stack((rf_pred,xgb_pred))"
   ]
  },
  {
   "cell_type": "code",
   "execution_count": 42,
   "id": "b35b0e43",
   "metadata": {},
   "outputs": [],
   "source": [
    "# Meta model\n",
    "meta_model = LogisticRegression()"
   ]
  },
  {
   "cell_type": "code",
   "execution_count": 43,
   "id": "8d438eb0",
   "metadata": {},
   "outputs": [
    {
     "data": {
      "text/html": [
       "<style>#sk-container-id-3 {color: black;background-color: white;}#sk-container-id-3 pre{padding: 0;}#sk-container-id-3 div.sk-toggleable {background-color: white;}#sk-container-id-3 label.sk-toggleable__label {cursor: pointer;display: block;width: 100%;margin-bottom: 0;padding: 0.3em;box-sizing: border-box;text-align: center;}#sk-container-id-3 label.sk-toggleable__label-arrow:before {content: \"▸\";float: left;margin-right: 0.25em;color: #696969;}#sk-container-id-3 label.sk-toggleable__label-arrow:hover:before {color: black;}#sk-container-id-3 div.sk-estimator:hover label.sk-toggleable__label-arrow:before {color: black;}#sk-container-id-3 div.sk-toggleable__content {max-height: 0;max-width: 0;overflow: hidden;text-align: left;background-color: #f0f8ff;}#sk-container-id-3 div.sk-toggleable__content pre {margin: 0.2em;color: black;border-radius: 0.25em;background-color: #f0f8ff;}#sk-container-id-3 input.sk-toggleable__control:checked~div.sk-toggleable__content {max-height: 200px;max-width: 100%;overflow: auto;}#sk-container-id-3 input.sk-toggleable__control:checked~label.sk-toggleable__label-arrow:before {content: \"▾\";}#sk-container-id-3 div.sk-estimator input.sk-toggleable__control:checked~label.sk-toggleable__label {background-color: #d4ebff;}#sk-container-id-3 div.sk-label input.sk-toggleable__control:checked~label.sk-toggleable__label {background-color: #d4ebff;}#sk-container-id-3 input.sk-hidden--visually {border: 0;clip: rect(1px 1px 1px 1px);clip: rect(1px, 1px, 1px, 1px);height: 1px;margin: -1px;overflow: hidden;padding: 0;position: absolute;width: 1px;}#sk-container-id-3 div.sk-estimator {font-family: monospace;background-color: #f0f8ff;border: 1px dotted black;border-radius: 0.25em;box-sizing: border-box;margin-bottom: 0.5em;}#sk-container-id-3 div.sk-estimator:hover {background-color: #d4ebff;}#sk-container-id-3 div.sk-parallel-item::after {content: \"\";width: 100%;border-bottom: 1px solid gray;flex-grow: 1;}#sk-container-id-3 div.sk-label:hover label.sk-toggleable__label {background-color: #d4ebff;}#sk-container-id-3 div.sk-serial::before {content: \"\";position: absolute;border-left: 1px solid gray;box-sizing: border-box;top: 0;bottom: 0;left: 50%;z-index: 0;}#sk-container-id-3 div.sk-serial {display: flex;flex-direction: column;align-items: center;background-color: white;padding-right: 0.2em;padding-left: 0.2em;position: relative;}#sk-container-id-3 div.sk-item {position: relative;z-index: 1;}#sk-container-id-3 div.sk-parallel {display: flex;align-items: stretch;justify-content: center;background-color: white;position: relative;}#sk-container-id-3 div.sk-item::before, #sk-container-id-3 div.sk-parallel-item::before {content: \"\";position: absolute;border-left: 1px solid gray;box-sizing: border-box;top: 0;bottom: 0;left: 50%;z-index: -1;}#sk-container-id-3 div.sk-parallel-item {display: flex;flex-direction: column;z-index: 1;position: relative;background-color: white;}#sk-container-id-3 div.sk-parallel-item:first-child::after {align-self: flex-end;width: 50%;}#sk-container-id-3 div.sk-parallel-item:last-child::after {align-self: flex-start;width: 50%;}#sk-container-id-3 div.sk-parallel-item:only-child::after {width: 0;}#sk-container-id-3 div.sk-dashed-wrapped {border: 1px dashed gray;margin: 0 0.4em 0.5em 0.4em;box-sizing: border-box;padding-bottom: 0.4em;background-color: white;}#sk-container-id-3 div.sk-label label {font-family: monospace;font-weight: bold;display: inline-block;line-height: 1.2em;}#sk-container-id-3 div.sk-label-container {text-align: center;}#sk-container-id-3 div.sk-container {/* jupyter's `normalize.less` sets `[hidden] { display: none; }` but bootstrap.min.css set `[hidden] { display: none !important; }` so we also need the `!important` here to be able to override the default hidden behavior on the sphinx rendered scikit-learn.org. See: https://github.com/scikit-learn/scikit-learn/issues/21755 */display: inline-block !important;position: relative;}#sk-container-id-3 div.sk-text-repr-fallback {display: none;}</style><div id=\"sk-container-id-3\" class=\"sk-top-container\"><div class=\"sk-text-repr-fallback\"><pre>LogisticRegression()</pre><b>In a Jupyter environment, please rerun this cell to show the HTML representation or trust the notebook. <br />On GitHub, the HTML representation is unable to render, please try loading this page with nbviewer.org.</b></div><div class=\"sk-container\" hidden><div class=\"sk-item\"><div class=\"sk-estimator sk-toggleable\"><input class=\"sk-toggleable__control sk-hidden--visually\" id=\"sk-estimator-id-3\" type=\"checkbox\" checked><label for=\"sk-estimator-id-3\" class=\"sk-toggleable__label sk-toggleable__label-arrow\">LogisticRegression</label><div class=\"sk-toggleable__content\"><pre>LogisticRegression()</pre></div></div></div></div></div>"
      ],
      "text/plain": [
       "LogisticRegression()"
      ]
     },
     "execution_count": 43,
     "metadata": {},
     "output_type": "execute_result"
    }
   ],
   "source": [
    "meta_model.fit(stacked_predictions, y_test)"
   ]
  },
  {
   "cell_type": "code",
   "execution_count": 44,
   "id": "9be52733",
   "metadata": {},
   "outputs": [
    {
     "data": {
      "text/plain": [
       "['meta_model.pkl']"
      ]
     },
     "execution_count": 44,
     "metadata": {},
     "output_type": "execute_result"
    }
   ],
   "source": [
    "joblib.dump(meta_model, 'meta_model.pkl')"
   ]
  },
  {
   "cell_type": "code",
   "execution_count": 45,
   "id": "63cf99e9",
   "metadata": {},
   "outputs": [],
   "source": [
    "# Prediction\n",
    "final_pred = meta_model.predict(stacked_predictions)"
   ]
  },
  {
   "cell_type": "code",
   "execution_count": 46,
   "id": "2f744e98",
   "metadata": {},
   "outputs": [
    {
     "name": "stdout",
     "output_type": "stream",
     "text": [
      "              precision    recall  f1-score   support\n",
      "\n",
      "           0       1.00      1.00      1.00   1703358\n",
      "           1       0.96      0.83      0.89      1943\n",
      "\n",
      "    accuracy                           1.00   1705301\n",
      "   macro avg       0.98      0.91      0.94   1705301\n",
      "weighted avg       1.00      1.00      1.00   1705301\n",
      "\n",
      "[[1703289      69]\n",
      " [    339    1604]]\n",
      "ROC-AUC Score: 0.9988132767362438\n"
     ]
    }
   ],
   "source": [
    "# Evaluate the stacked model\n",
    "print(classification_report(y_test, final_pred))\n",
    "print(confusion_matrix(y_test, final_pred))\n",
    "print(\"ROC-AUC Score:\", roc_auc_score(y_test, meta_model.predict_proba(stacked_predictions)[:, 1]))"
   ]
  },
  {
   "cell_type": "code",
   "execution_count": null,
   "id": "1f5ce6ed",
   "metadata": {},
   "outputs": [],
   "source": []
  },
  {
   "cell_type": "markdown",
   "id": "2b4761ce",
   "metadata": {},
   "source": [
    "### Model Assessment on new data:"
   ]
  },
  {
   "cell_type": "code",
   "execution_count": 51,
   "id": "bc8c0ed9",
   "metadata": {},
   "outputs": [],
   "source": [
    "# Create the new data as a DataFrame\n",
    "df = {\n",
    "    'step': [1],\n",
    "    'type': [2],  # Assuming 'type' is already encoded properly\n",
    "    'amount': [1630.25],\n",
    "    'oldbalanceOrg': [19235.0],\n",
    "    'newbalanceDest': [0.0],\n",
    "    'hour_of_day': [1],\n",
    "    'day_of_week': [0],\n",
    "    'balance_change_org':[1630.25],\n",
    "    'balance_change_dest':[0.0]\n",
    "}"
   ]
  },
  {
   "cell_type": "code",
   "execution_count": 56,
   "id": "2e94ad36",
   "metadata": {},
   "outputs": [
    {
     "data": {
      "text/html": [
       "<div>\n",
       "<style scoped>\n",
       "    .dataframe tbody tr th:only-of-type {\n",
       "        vertical-align: middle;\n",
       "    }\n",
       "\n",
       "    .dataframe tbody tr th {\n",
       "        vertical-align: top;\n",
       "    }\n",
       "\n",
       "    .dataframe thead th {\n",
       "        text-align: right;\n",
       "    }\n",
       "</style>\n",
       "<table border=\"1\" class=\"dataframe\">\n",
       "  <thead>\n",
       "    <tr style=\"text-align: right;\">\n",
       "      <th></th>\n",
       "      <th>step</th>\n",
       "      <th>type</th>\n",
       "      <th>amount</th>\n",
       "      <th>oldbalanceOrg</th>\n",
       "      <th>newbalanceDest</th>\n",
       "      <th>hour_of_day</th>\n",
       "      <th>day_of_week</th>\n",
       "      <th>balance_change_org</th>\n",
       "      <th>balance_change_dest</th>\n",
       "    </tr>\n",
       "  </thead>\n",
       "  <tbody>\n",
       "    <tr>\n",
       "      <th>0</th>\n",
       "      <td>1</td>\n",
       "      <td>2</td>\n",
       "      <td>1630.25</td>\n",
       "      <td>19235.0</td>\n",
       "      <td>0.0</td>\n",
       "      <td>1</td>\n",
       "      <td>0</td>\n",
       "      <td>1630.25</td>\n",
       "      <td>0.0</td>\n",
       "    </tr>\n",
       "  </tbody>\n",
       "</table>\n",
       "</div>"
      ],
      "text/plain": [
       "   step  type   amount  oldbalanceOrg  newbalanceDest  hour_of_day  \\\n",
       "0     1     2  1630.25        19235.0             0.0            1   \n",
       "\n",
       "   day_of_week  balance_change_org  balance_change_dest  \n",
       "0            0             1630.25                  0.0  "
      ]
     },
     "execution_count": 56,
     "metadata": {},
     "output_type": "execute_result"
    }
   ],
   "source": [
    "new_data = pd.DataFrame(df)\n",
    "new_data"
   ]
  },
  {
   "cell_type": "code",
   "execution_count": 57,
   "id": "a3f008fe",
   "metadata": {},
   "outputs": [],
   "source": [
    "# Load the scaler and apply the same transformation\n",
    "scaler = joblib.load('scaler.pkl')\n",
    "new_data_scaled = scaler.transform(new_data)"
   ]
  },
  {
   "cell_type": "code",
   "execution_count": 58,
   "id": "e89d1b57",
   "metadata": {},
   "outputs": [],
   "source": [
    "# Load the trained models\n",
    "rf = joblib.load('rf.pkl')\n",
    "xgb = joblib.load('xgb.pkl')\n",
    "meta_model = joblib.load('meta_model.pkl')"
   ]
  },
  {
   "cell_type": "code",
   "execution_count": 59,
   "id": "db3c31f2",
   "metadata": {},
   "outputs": [],
   "source": [
    "# Get the predictions from Random Forest and XGBoost\n",
    "rf_pred = rf.predict_proba(new_data_scaled)[:, 1]\n",
    "xgb_pred = xgb.predict_proba(new_data_scaled)[:, 1]"
   ]
  },
  {
   "cell_type": "code",
   "execution_count": 60,
   "id": "6c2c4be0",
   "metadata": {},
   "outputs": [],
   "source": [
    "# Stack the predictions and predict using the meta-model\n",
    "stacked_predictions = np.column_stack((rf_pred, xgb_pred))\n",
    "final_pred = meta_model.predict(stacked_predictions)\n",
    "final_prob = meta_model.predict_proba(stacked_predictions)[:, 1]"
   ]
  },
  {
   "cell_type": "code",
   "execution_count": 61,
   "id": "ae4da51d",
   "metadata": {},
   "outputs": [
    {
     "name": "stdout",
     "output_type": "stream",
     "text": [
      "Predicted Class: [0]\n",
      "Prediction Probability: [3.60601199e-05]\n"
     ]
    }
   ],
   "source": [
    "# Output the prediction\n",
    "print(\"Predicted Class:\", final_pred)\n",
    "print(\"Prediction Probability:\", final_prob)\n"
   ]
  },
  {
   "cell_type": "code",
   "execution_count": null,
   "id": "a1c5b06e",
   "metadata": {},
   "outputs": [],
   "source": []
  },
  {
   "cell_type": "markdown",
   "id": "9777b3c8-dd81-418c-9690-b9ff01b9e7e0",
   "metadata": {},
   "source": [
    "### Fraud Detection Model Analysis and Evaluation:"
   ]
  },
  {
   "cell_type": "markdown",
   "id": "9f8b3ba2-56ef-41f8-9786-c29775ba81e2",
   "metadata": {},
   "source": [
    "1. Data Cleaning Including Missing Values, Outliers, and Multi-collinearity:"
   ]
  },
  {
   "cell_type": "markdown",
   "id": "34e7c632-dff0-4863-9f69-235c4fa03ed4",
   "metadata": {},
   "source": [
    "•\tMissing Values: Checked for missing values and found none, as the dataset was complete.\r\n",
    "•\tOutliers: Identified and handled outliers using Z-score or IQR methods. For example, features like amount and balance change were evaluated for outliers, and extreme values were clipped to reduce their impact.\r\n",
    "•\tMulti-collinearity: Assessed multi-collinearity using Variance Inflation Factor (VIF). Variables with high VIF values, indicating strong correlations, were either removed or combined. For instance, oldbalanceOrg and newbalanceOrig showed high multi-collinearity and were addressed accordingly.\r\n",
    ".\r\n"
   ]
  },
  {
   "cell_type": "markdown",
   "id": "7d48e989-c437-4a29-8a19-0a6e9d25d79e",
   "metadata": {},
   "source": [
    "2. Describe Your Fraud Detection Model in Elaboration:"
   ]
  },
  {
   "cell_type": "markdown",
   "id": "9ddba97a-d488-4a01-8841-33764506e5dd",
   "metadata": {},
   "source": [
    "•\tThe fraud detection model was built using a Stacking Ensemble, combining Random Forest and XGBoost models.\n",
    "•\tRandom Forest: Good for handling complex data and capturing non-linear relationships.\n",
    "•\tXGBoost: Powerful gradient boosting algorithm known for its accuracy and efficiency in handling imbalanced data.\n",
    "•\tThe final model used a meta-model (Logistic Regression) to combine the predictions from Random Forest and XGBoost, leveraging their strengths.\n",
    "•\tHyperparameter tuning was initially conducted using GridSearchCV to optimize the performance of each model component. \n",
    "    However, due to the high computational demands and frequent power interruptions caused by adverse weather conditions, \n",
    "    the tuning process was discontinued.\n"
   ]
  },
  {
   "cell_type": "markdown",
   "id": "81b6e2c8-2168-4d5c-bf4a-95e7055a7229",
   "metadata": {},
   "source": [
    "3. How Did You Select Variables to Be Included in the Model?"
   ]
  },
  {
   "cell_type": "markdown",
   "id": "5df5c4dc-6725-4146-b114-3a08aaf21045",
   "metadata": {},
   "source": [
    "•\tFeature Engineering: Created new features like balance_change_org, balance_change_dest, hour_of_the_day and day_of_week, to capture important aspects of the transactions.\r\n",
    "•\tFeature Importance: Evaluated feature importance using models.\r\n",
    "•\tCorrelation Analysis: Dropped features with high correlation (above 0.8) to avoid redundancy, ensuring the model was not negatively impacted by multi-collinearity.\r\n"
   ]
  },
  {
   "cell_type": "markdown",
   "id": "e61172ad-1085-4e06-b41b-8933dddd4599",
   "metadata": {},
   "source": [
    "4. Demonstrate the Performance of the Model Using the Best Set of Tools"
   ]
  },
  {
   "cell_type": "markdown",
   "id": "b7c1b49f-30d7-4f60-aecd-1046f20b18fb",
   "metadata": {},
   "source": [
    "•\tAccuracy, Precision, Recall, and F1-Score: Evaluated on both training and testing sets.\r\n",
    "•\tConfusion Matrix: Provided insights into True Positives, False Positives, True Negatives, and False Negatives.\r\n",
    "•\tROC-AUC Score: Used to measure the model’s ability to distinguish between fraudulent and non-fraudulent transactions. A high ROC-AUC score (close to 1) indicates excellent model performance.\r\n"
   ]
  },
  {
   "cell_type": "markdown",
   "id": "a4fc3680-b51a-4dee-a275-5d79f92e404d",
   "metadata": {},
   "source": [
    "5. What Are the Key Factors That Predict Fraudulent Customer?"
   ]
  },
  {
   "cell_type": "markdown",
   "id": "242b2897-b6cc-48ec-b310-8b16c23a7fd8",
   "metadata": {},
   "source": [
    "•\tTransaction Amount: High transaction amounts are often flagged as suspicious.\r\n",
    "•\tType of Transaction: Certain types of transactions, like ‘TRANSFER’ and ‘CASH_OUT’, were more prone to fraud.\r\n",
    "•\tBalance Changes: Large discrepancies between old and new balances in origin and destination accounts.\r\n",
    "•\tTime of Transaction: Transactions occurring at unusual hours or on weekends were more likely to be fraudulent.\r\n"
   ]
  },
  {
   "cell_type": "markdown",
   "id": "cd972567-6e3b-476c-a56d-ca752836e3f7",
   "metadata": {},
   "source": [
    "6. Do These Factors Make Sense? If Yes, How? If Not, How Not?"
   ]
  },
  {
   "cell_type": "markdown",
   "id": "b582e0d6-a648-4a20-8c40-9fde84e09657",
   "metadata": {},
   "source": [
    "•\tThese factors align well with typical fraud scenarios. For example, fraudsters often transfer large sums of money or deplete balances quickly \r\n",
    "•\tThe correlation between transaction types and fraud makes sense, as fraudulent activities are often associated with specific types of financial actions.\r\n",
    "•\tOdd transaction timings are logical indicators since fraud attempts might occur when monitoring is expected to be lax.\r\n"
   ]
  },
  {
   "cell_type": "markdown",
   "id": "703fda22-1904-437b-a59e-eabab35ef9f3",
   "metadata": {},
   "source": [
    "7. What Kind of Prevention Should Be Adopted While the Company Updates Its Infrastructure?"
   ]
  },
  {
   "cell_type": "markdown",
   "id": "b0306192-0200-4501-b69c-52d500d84644",
   "metadata": {},
   "source": [
    "•\tReal-Time Monitoring: Implement real-time fraud detection systems with alerts for high-risk transactions.\r\n",
    "•\tEnhanced Security Protocols: Use multi-factor authentication, and encryption, and regularly update security systems.\r\n",
    "•\tMachine Learning Integration: Continuously train models on new data to keep up with evolving fraud patterns.\r\n",
    "•\tUser Education: Educate customers on recognizing and reporting suspicious activities.\r\n"
   ]
  },
  {
   "cell_type": "markdown",
   "id": "8c60acde-91be-476b-8b41-7b95a5b711e5",
   "metadata": {},
   "source": [
    "8. Assuming These Actions Have Been Implemented, How Would You Determine If They Work?"
   ]
  },
  {
   "cell_type": "markdown",
   "id": "e1399a30-f147-438f-9560-387d0827a4bc",
   "metadata": {},
   "source": [
    "•\tReduction in Fraud Cases: Monitor the number of fraudulent transactions before and after implementation.\n",
    "•\tImprovement in Detection Rates: Analyse metrics like recall and precision to ensure fewer false negatives and positives.\n",
    "•\tCustomer Feedback: Gather feedback from users to understand if they feel safer and are experiencing fewer issues.\n",
    "•\tPeriodic Review: Conduct regular audits and performance reviews of the fraud detection system to adapt to new threats.\n"
   ]
  }
 ],
 "metadata": {
  "kernelspec": {
   "display_name": "Python 3 (ipykernel)",
   "language": "python",
   "name": "python3"
  },
  "language_info": {
   "codemirror_mode": {
    "name": "ipython",
    "version": 3
   },
   "file_extension": ".py",
   "mimetype": "text/x-python",
   "name": "python",
   "nbconvert_exporter": "python",
   "pygments_lexer": "ipython3",
   "version": "3.11.7"
  }
 },
 "nbformat": 4,
 "nbformat_minor": 5
}
